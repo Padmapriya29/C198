{
  "nbformat": 4,
  "nbformat_minor": 0,
  "metadata": {
    "colab": {
      "provenance": [],
      "authorship_tag": "ABX9TyNefrCQ3VIknJKewcwzd8XU",
      "include_colab_link": true
    },
    "kernelspec": {
      "name": "python3",
      "display_name": "Python 3"
    },
    "language_info": {
      "name": "python"
    }
  },
  "cells": [
    {
      "cell_type": "markdown",
      "metadata": {
        "id": "view-in-github",
        "colab_type": "text"
      },
      "source": [
        "<a href=\"https://colab.research.google.com/github/Padmapriya29/C198/blob/main/C198.ipynb\" target=\"_parent\"><img src=\"https://colab.research.google.com/assets/colab-badge.svg\" alt=\"Open In Colab\"/></a>"
      ]
    },
    {
      "cell_type": "code",
      "execution_count": 2,
      "metadata": {
        "colab": {
          "base_uri": "https://localhost:8080/"
        },
        "id": "OJ81GMGW4En9",
        "outputId": "16dbce32-1fa0-4d8f-ee2d-2f403dc91360"
      },
      "outputs": [
        {
          "output_type": "stream",
          "name": "stdout",
          "text": [
            "Enter marks obtained:\n",
            "80\n",
            "79\n",
            "98\n",
            "81\n",
            "79\n",
            "average marks - 83.4\n"
          ]
        }
      ],
      "source": [
        "total=0\n",
        "print(\"Enter marks obtained:\")\n",
        "for i in range(5):\n",
        "  score=int(input())\n",
        "  total+=score\n",
        "average=total/5\n",
        "print(f\"average marks - {average}\")"
      ]
    },
    {
      "cell_type": "code",
      "source": [
        "print(\"CALCULATOR\")\n",
        "print(\"1. Addition\")\n",
        "print(\"2. Subraction\")\n",
        "print(\"3. Multiplication\")\n",
        "print(\"4. Division\")\n",
        "print(\"5. Percentage\")\n",
        "\n",
        "choice=int(input(\"Enter your choice (1,2,3,4,5): \"))\n",
        "if(choice >= 1 and choice <= 5):\n",
        "  print(\"Enter two numbers\")\n",
        "  num1=int(input(\"Enter the first number: \"))\n",
        "  num2=int(input(\"Enter the second number: \"))\n",
        "\n",
        "  if choice == 1:\n",
        "    print(f\"Result- {num1+num2}\")\n",
        "  elif choice == 2:\n",
        "    print(f\"Result- {num1-num2}\")\n",
        "  elif choice == 3:\n",
        "    print(f\"Result- {num1*num2}\")\n",
        "  elif choice == 4:\n",
        "    print(f\"Result- {num1/num2}\")\n",
        "  elif choice == 5:\n",
        "    print(f\"Result- {num1/num2*100}\")\n",
        "\n",
        "else:\n",
        "  print(\"Incorrect Input\")"
      ],
      "metadata": {
        "colab": {
          "base_uri": "https://localhost:8080/"
        },
        "id": "nivVBHjo5qbq",
        "outputId": "498b6787-4daf-4d00-efec-a06a591278db"
      },
      "execution_count": 11,
      "outputs": [
        {
          "output_type": "stream",
          "name": "stdout",
          "text": [
            "CALCULATOR\n",
            "1. Addition\n",
            "2. Subraction\n",
            "3. Multiplication\n",
            "4. Division\n",
            "5. Percentage\n",
            "Enter your choice (1,2,3,4,5): 5\n",
            "Enter two numbers\n",
            "Enter the first number: 70\n",
            "Enter the second number: 100\n",
            "Result- 70.0\n"
          ]
        }
      ]
    }
  ]
}